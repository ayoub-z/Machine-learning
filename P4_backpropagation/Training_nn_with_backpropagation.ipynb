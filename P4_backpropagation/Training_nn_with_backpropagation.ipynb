{
 "cells": [
  {
   "cell_type": "code",
   "execution_count": 38,
   "id": "d639f9c4",
   "metadata": {},
   "outputs": [],
   "source": [
    "from Neuron import Neuron\n",
    "from NeuronLayer import NeuronLayer\n",
    "from NeuronNetwork import NeuronNetwork\n",
    "\n",
    "from sklearn.datasets import load_iris\n",
    "from sklearn import datasets\n",
    "\n",
    "from sklearn.model_selection import train_test_split\n",
    "from sklearn.metrics import accuracy_score\n",
    "\n",
    "import numpy as np\n",
    "import pandas as pd\n",
    "import statistics"
   ]
  },
  {
   "cell_type": "markdown",
   "id": "6acee7c4",
   "metadata": {},
   "source": [
    "#### Load datasets and convert to df"
   ]
  },
  {
   "cell_type": "code",
   "execution_count": 39,
   "id": "69bf8ddc",
   "metadata": {},
   "outputs": [],
   "source": [
    "iris = datasets.load_iris()\n",
    "digits = datasets.load_digits()"
   ]
  },
  {
   "cell_type": "code",
   "execution_count": 40,
   "id": "8271e510",
   "metadata": {},
   "outputs": [],
   "source": [
    "data1 = pd.DataFrame(data= np.c_[iris['data'], iris['target']],\n",
    "                     columns= iris['feature_names'] + ['target'])\n",
    "data2 = pd.DataFrame(data= np.c_[digits['data'], digits['target']],\n",
    "                     columns= digits['feature_names'] + ['target'])"
   ]
  },
  {
   "cell_type": "code",
   "execution_count": 41,
   "id": "de2a61c2",
   "metadata": {
    "scrolled": true
   },
   "outputs": [
    {
     "data": {
      "text/html": [
       "<div>\n",
       "<style scoped>\n",
       "    .dataframe tbody tr th:only-of-type {\n",
       "        vertical-align: middle;\n",
       "    }\n",
       "\n",
       "    .dataframe tbody tr th {\n",
       "        vertical-align: top;\n",
       "    }\n",
       "\n",
       "    .dataframe thead th {\n",
       "        text-align: right;\n",
       "    }\n",
       "</style>\n",
       "<table border=\"1\" class=\"dataframe\">\n",
       "  <thead>\n",
       "    <tr style=\"text-align: right;\">\n",
       "      <th></th>\n",
       "      <th>sepal length (cm)</th>\n",
       "      <th>sepal width (cm)</th>\n",
       "      <th>petal length (cm)</th>\n",
       "      <th>petal width (cm)</th>\n",
       "      <th>target</th>\n",
       "    </tr>\n",
       "  </thead>\n",
       "  <tbody>\n",
       "    <tr>\n",
       "      <th>69</th>\n",
       "      <td>5.6</td>\n",
       "      <td>2.5</td>\n",
       "      <td>3.9</td>\n",
       "      <td>1.1</td>\n",
       "      <td>1.0</td>\n",
       "    </tr>\n",
       "  </tbody>\n",
       "</table>\n",
       "</div>"
      ],
      "text/plain": [
       "    sepal length (cm)  sepal width (cm)  petal length (cm)  petal width (cm)  \\\n",
       "69                5.6               2.5                3.9               1.1   \n",
       "\n",
       "    target  \n",
       "69     1.0  "
      ]
     },
     "execution_count": 41,
     "metadata": {},
     "output_type": "execute_result"
    }
   ],
   "source": [
    "data1.sample()"
   ]
  },
  {
   "cell_type": "code",
   "execution_count": 42,
   "id": "030bcc89",
   "metadata": {
    "scrolled": true
   },
   "outputs": [
    {
     "data": {
      "text/html": [
       "<div>\n",
       "<style scoped>\n",
       "    .dataframe tbody tr th:only-of-type {\n",
       "        vertical-align: middle;\n",
       "    }\n",
       "\n",
       "    .dataframe tbody tr th {\n",
       "        vertical-align: top;\n",
       "    }\n",
       "\n",
       "    .dataframe thead th {\n",
       "        text-align: right;\n",
       "    }\n",
       "</style>\n",
       "<table border=\"1\" class=\"dataframe\">\n",
       "  <thead>\n",
       "    <tr style=\"text-align: right;\">\n",
       "      <th></th>\n",
       "      <th>pixel_0_0</th>\n",
       "      <th>pixel_0_1</th>\n",
       "      <th>pixel_0_2</th>\n",
       "      <th>pixel_0_3</th>\n",
       "      <th>pixel_0_4</th>\n",
       "      <th>pixel_0_5</th>\n",
       "      <th>pixel_0_6</th>\n",
       "      <th>pixel_0_7</th>\n",
       "      <th>pixel_1_0</th>\n",
       "      <th>pixel_1_1</th>\n",
       "      <th>...</th>\n",
       "      <th>pixel_6_6</th>\n",
       "      <th>pixel_6_7</th>\n",
       "      <th>pixel_7_0</th>\n",
       "      <th>pixel_7_1</th>\n",
       "      <th>pixel_7_2</th>\n",
       "      <th>pixel_7_3</th>\n",
       "      <th>pixel_7_4</th>\n",
       "      <th>pixel_7_5</th>\n",
       "      <th>pixel_7_6</th>\n",
       "      <th>pixel_7_7</th>\n",
       "    </tr>\n",
       "  </thead>\n",
       "  <tbody>\n",
       "    <tr>\n",
       "      <th>0</th>\n",
       "      <td>0.0</td>\n",
       "      <td>0.0</td>\n",
       "      <td>5.0</td>\n",
       "      <td>13.0</td>\n",
       "      <td>9.0</td>\n",
       "      <td>1.0</td>\n",
       "      <td>0.0</td>\n",
       "      <td>0.0</td>\n",
       "      <td>0.0</td>\n",
       "      <td>0.0</td>\n",
       "      <td>...</td>\n",
       "      <td>0.0</td>\n",
       "      <td>0.0</td>\n",
       "      <td>0.0</td>\n",
       "      <td>0.0</td>\n",
       "      <td>6.0</td>\n",
       "      <td>13.0</td>\n",
       "      <td>10.0</td>\n",
       "      <td>0.0</td>\n",
       "      <td>0.0</td>\n",
       "      <td>0.0</td>\n",
       "    </tr>\n",
       "    <tr>\n",
       "      <th>1</th>\n",
       "      <td>0.0</td>\n",
       "      <td>0.0</td>\n",
       "      <td>0.0</td>\n",
       "      <td>12.0</td>\n",
       "      <td>13.0</td>\n",
       "      <td>5.0</td>\n",
       "      <td>0.0</td>\n",
       "      <td>0.0</td>\n",
       "      <td>0.0</td>\n",
       "      <td>0.0</td>\n",
       "      <td>...</td>\n",
       "      <td>0.0</td>\n",
       "      <td>0.0</td>\n",
       "      <td>0.0</td>\n",
       "      <td>0.0</td>\n",
       "      <td>0.0</td>\n",
       "      <td>11.0</td>\n",
       "      <td>16.0</td>\n",
       "      <td>10.0</td>\n",
       "      <td>0.0</td>\n",
       "      <td>0.0</td>\n",
       "    </tr>\n",
       "    <tr>\n",
       "      <th>2</th>\n",
       "      <td>0.0</td>\n",
       "      <td>0.0</td>\n",
       "      <td>0.0</td>\n",
       "      <td>4.0</td>\n",
       "      <td>15.0</td>\n",
       "      <td>12.0</td>\n",
       "      <td>0.0</td>\n",
       "      <td>0.0</td>\n",
       "      <td>0.0</td>\n",
       "      <td>0.0</td>\n",
       "      <td>...</td>\n",
       "      <td>5.0</td>\n",
       "      <td>0.0</td>\n",
       "      <td>0.0</td>\n",
       "      <td>0.0</td>\n",
       "      <td>0.0</td>\n",
       "      <td>3.0</td>\n",
       "      <td>11.0</td>\n",
       "      <td>16.0</td>\n",
       "      <td>9.0</td>\n",
       "      <td>0.0</td>\n",
       "    </tr>\n",
       "    <tr>\n",
       "      <th>3</th>\n",
       "      <td>0.0</td>\n",
       "      <td>0.0</td>\n",
       "      <td>7.0</td>\n",
       "      <td>15.0</td>\n",
       "      <td>13.0</td>\n",
       "      <td>1.0</td>\n",
       "      <td>0.0</td>\n",
       "      <td>0.0</td>\n",
       "      <td>0.0</td>\n",
       "      <td>8.0</td>\n",
       "      <td>...</td>\n",
       "      <td>9.0</td>\n",
       "      <td>0.0</td>\n",
       "      <td>0.0</td>\n",
       "      <td>0.0</td>\n",
       "      <td>7.0</td>\n",
       "      <td>13.0</td>\n",
       "      <td>13.0</td>\n",
       "      <td>9.0</td>\n",
       "      <td>0.0</td>\n",
       "      <td>0.0</td>\n",
       "    </tr>\n",
       "    <tr>\n",
       "      <th>4</th>\n",
       "      <td>0.0</td>\n",
       "      <td>0.0</td>\n",
       "      <td>0.0</td>\n",
       "      <td>1.0</td>\n",
       "      <td>11.0</td>\n",
       "      <td>0.0</td>\n",
       "      <td>0.0</td>\n",
       "      <td>0.0</td>\n",
       "      <td>0.0</td>\n",
       "      <td>0.0</td>\n",
       "      <td>...</td>\n",
       "      <td>0.0</td>\n",
       "      <td>0.0</td>\n",
       "      <td>0.0</td>\n",
       "      <td>0.0</td>\n",
       "      <td>0.0</td>\n",
       "      <td>2.0</td>\n",
       "      <td>16.0</td>\n",
       "      <td>4.0</td>\n",
       "      <td>0.0</td>\n",
       "      <td>0.0</td>\n",
       "    </tr>\n",
       "    <tr>\n",
       "      <th>...</th>\n",
       "      <td>...</td>\n",
       "      <td>...</td>\n",
       "      <td>...</td>\n",
       "      <td>...</td>\n",
       "      <td>...</td>\n",
       "      <td>...</td>\n",
       "      <td>...</td>\n",
       "      <td>...</td>\n",
       "      <td>...</td>\n",
       "      <td>...</td>\n",
       "      <td>...</td>\n",
       "      <td>...</td>\n",
       "      <td>...</td>\n",
       "      <td>...</td>\n",
       "      <td>...</td>\n",
       "      <td>...</td>\n",
       "      <td>...</td>\n",
       "      <td>...</td>\n",
       "      <td>...</td>\n",
       "      <td>...</td>\n",
       "      <td>...</td>\n",
       "    </tr>\n",
       "    <tr>\n",
       "      <th>1792</th>\n",
       "      <td>0.0</td>\n",
       "      <td>0.0</td>\n",
       "      <td>4.0</td>\n",
       "      <td>10.0</td>\n",
       "      <td>13.0</td>\n",
       "      <td>6.0</td>\n",
       "      <td>0.0</td>\n",
       "      <td>0.0</td>\n",
       "      <td>0.0</td>\n",
       "      <td>1.0</td>\n",
       "      <td>...</td>\n",
       "      <td>4.0</td>\n",
       "      <td>0.0</td>\n",
       "      <td>0.0</td>\n",
       "      <td>0.0</td>\n",
       "      <td>2.0</td>\n",
       "      <td>14.0</td>\n",
       "      <td>15.0</td>\n",
       "      <td>9.0</td>\n",
       "      <td>0.0</td>\n",
       "      <td>0.0</td>\n",
       "    </tr>\n",
       "    <tr>\n",
       "      <th>1793</th>\n",
       "      <td>0.0</td>\n",
       "      <td>0.0</td>\n",
       "      <td>6.0</td>\n",
       "      <td>16.0</td>\n",
       "      <td>13.0</td>\n",
       "      <td>11.0</td>\n",
       "      <td>1.0</td>\n",
       "      <td>0.0</td>\n",
       "      <td>0.0</td>\n",
       "      <td>0.0</td>\n",
       "      <td>...</td>\n",
       "      <td>1.0</td>\n",
       "      <td>0.0</td>\n",
       "      <td>0.0</td>\n",
       "      <td>0.0</td>\n",
       "      <td>6.0</td>\n",
       "      <td>16.0</td>\n",
       "      <td>14.0</td>\n",
       "      <td>6.0</td>\n",
       "      <td>0.0</td>\n",
       "      <td>0.0</td>\n",
       "    </tr>\n",
       "    <tr>\n",
       "      <th>1794</th>\n",
       "      <td>0.0</td>\n",
       "      <td>0.0</td>\n",
       "      <td>1.0</td>\n",
       "      <td>11.0</td>\n",
       "      <td>15.0</td>\n",
       "      <td>1.0</td>\n",
       "      <td>0.0</td>\n",
       "      <td>0.0</td>\n",
       "      <td>0.0</td>\n",
       "      <td>0.0</td>\n",
       "      <td>...</td>\n",
       "      <td>0.0</td>\n",
       "      <td>0.0</td>\n",
       "      <td>0.0</td>\n",
       "      <td>0.0</td>\n",
       "      <td>2.0</td>\n",
       "      <td>9.0</td>\n",
       "      <td>13.0</td>\n",
       "      <td>6.0</td>\n",
       "      <td>0.0</td>\n",
       "      <td>0.0</td>\n",
       "    </tr>\n",
       "    <tr>\n",
       "      <th>1795</th>\n",
       "      <td>0.0</td>\n",
       "      <td>0.0</td>\n",
       "      <td>2.0</td>\n",
       "      <td>10.0</td>\n",
       "      <td>7.0</td>\n",
       "      <td>0.0</td>\n",
       "      <td>0.0</td>\n",
       "      <td>0.0</td>\n",
       "      <td>0.0</td>\n",
       "      <td>0.0</td>\n",
       "      <td>...</td>\n",
       "      <td>2.0</td>\n",
       "      <td>0.0</td>\n",
       "      <td>0.0</td>\n",
       "      <td>0.0</td>\n",
       "      <td>5.0</td>\n",
       "      <td>12.0</td>\n",
       "      <td>16.0</td>\n",
       "      <td>12.0</td>\n",
       "      <td>0.0</td>\n",
       "      <td>0.0</td>\n",
       "    </tr>\n",
       "    <tr>\n",
       "      <th>1796</th>\n",
       "      <td>0.0</td>\n",
       "      <td>0.0</td>\n",
       "      <td>10.0</td>\n",
       "      <td>14.0</td>\n",
       "      <td>8.0</td>\n",
       "      <td>1.0</td>\n",
       "      <td>0.0</td>\n",
       "      <td>0.0</td>\n",
       "      <td>0.0</td>\n",
       "      <td>2.0</td>\n",
       "      <td>...</td>\n",
       "      <td>8.0</td>\n",
       "      <td>0.0</td>\n",
       "      <td>0.0</td>\n",
       "      <td>1.0</td>\n",
       "      <td>8.0</td>\n",
       "      <td>12.0</td>\n",
       "      <td>14.0</td>\n",
       "      <td>12.0</td>\n",
       "      <td>1.0</td>\n",
       "      <td>0.0</td>\n",
       "    </tr>\n",
       "  </tbody>\n",
       "</table>\n",
       "<p>1797 rows × 64 columns</p>\n",
       "</div>"
      ],
      "text/plain": [
       "      pixel_0_0  pixel_0_1  pixel_0_2  pixel_0_3  pixel_0_4  pixel_0_5  \\\n",
       "0           0.0        0.0        5.0       13.0        9.0        1.0   \n",
       "1           0.0        0.0        0.0       12.0       13.0        5.0   \n",
       "2           0.0        0.0        0.0        4.0       15.0       12.0   \n",
       "3           0.0        0.0        7.0       15.0       13.0        1.0   \n",
       "4           0.0        0.0        0.0        1.0       11.0        0.0   \n",
       "...         ...        ...        ...        ...        ...        ...   \n",
       "1792        0.0        0.0        4.0       10.0       13.0        6.0   \n",
       "1793        0.0        0.0        6.0       16.0       13.0       11.0   \n",
       "1794        0.0        0.0        1.0       11.0       15.0        1.0   \n",
       "1795        0.0        0.0        2.0       10.0        7.0        0.0   \n",
       "1796        0.0        0.0       10.0       14.0        8.0        1.0   \n",
       "\n",
       "      pixel_0_6  pixel_0_7  pixel_1_0  pixel_1_1  ...  pixel_6_6  pixel_6_7  \\\n",
       "0           0.0        0.0        0.0        0.0  ...        0.0        0.0   \n",
       "1           0.0        0.0        0.0        0.0  ...        0.0        0.0   \n",
       "2           0.0        0.0        0.0        0.0  ...        5.0        0.0   \n",
       "3           0.0        0.0        0.0        8.0  ...        9.0        0.0   \n",
       "4           0.0        0.0        0.0        0.0  ...        0.0        0.0   \n",
       "...         ...        ...        ...        ...  ...        ...        ...   \n",
       "1792        0.0        0.0        0.0        1.0  ...        4.0        0.0   \n",
       "1793        1.0        0.0        0.0        0.0  ...        1.0        0.0   \n",
       "1794        0.0        0.0        0.0        0.0  ...        0.0        0.0   \n",
       "1795        0.0        0.0        0.0        0.0  ...        2.0        0.0   \n",
       "1796        0.0        0.0        0.0        2.0  ...        8.0        0.0   \n",
       "\n",
       "      pixel_7_0  pixel_7_1  pixel_7_2  pixel_7_3  pixel_7_4  pixel_7_5  \\\n",
       "0           0.0        0.0        6.0       13.0       10.0        0.0   \n",
       "1           0.0        0.0        0.0       11.0       16.0       10.0   \n",
       "2           0.0        0.0        0.0        3.0       11.0       16.0   \n",
       "3           0.0        0.0        7.0       13.0       13.0        9.0   \n",
       "4           0.0        0.0        0.0        2.0       16.0        4.0   \n",
       "...         ...        ...        ...        ...        ...        ...   \n",
       "1792        0.0        0.0        2.0       14.0       15.0        9.0   \n",
       "1793        0.0        0.0        6.0       16.0       14.0        6.0   \n",
       "1794        0.0        0.0        2.0        9.0       13.0        6.0   \n",
       "1795        0.0        0.0        5.0       12.0       16.0       12.0   \n",
       "1796        0.0        1.0        8.0       12.0       14.0       12.0   \n",
       "\n",
       "      pixel_7_6  pixel_7_7  \n",
       "0           0.0        0.0  \n",
       "1           0.0        0.0  \n",
       "2           9.0        0.0  \n",
       "3           0.0        0.0  \n",
       "4           0.0        0.0  \n",
       "...         ...        ...  \n",
       "1792        0.0        0.0  \n",
       "1793        0.0        0.0  \n",
       "1794        0.0        0.0  \n",
       "1795        0.0        0.0  \n",
       "1796        1.0        0.0  \n",
       "\n",
       "[1797 rows x 64 columns]"
      ]
     },
     "execution_count": 42,
     "metadata": {},
     "output_type": "execute_result"
    }
   ],
   "source": [
    "data2.iloc[:, :-1]"
   ]
  },
  {
   "cell_type": "code",
   "execution_count": 43,
   "id": "3be4da27",
   "metadata": {},
   "outputs": [],
   "source": [
    "data_digits = data2.iloc[:, :-1]\n",
    "target_digits = data2.iloc[:, -1]"
   ]
  },
  {
   "cell_type": "markdown",
   "id": "b513735b",
   "metadata": {},
   "source": [
    "#### Classifying the flowers"
   ]
  },
  {
   "cell_type": "code",
   "execution_count": 44,
   "id": "faf7d262",
   "metadata": {},
   "outputs": [],
   "source": [
    "setosa = 0\n",
    "versicolor = 1\n",
    "virginica = 2"
   ]
  },
  {
   "cell_type": "markdown",
   "id": "1b8133e5",
   "metadata": {},
   "source": [
    "#### Filter the flowers into two datasets.\n",
    "\n",
    "flowers1 = `Setosa and Versicolour` <br>\n",
    "flowers2 = `Versicolour and Verginica`\n"
   ]
  },
  {
   "cell_type": "code",
   "execution_count": 45,
   "id": "4ea119c5",
   "metadata": {},
   "outputs": [],
   "source": [
    "flowers1 = data1[data1.target != 2]"
   ]
  },
  {
   "cell_type": "code",
   "execution_count": 46,
   "id": "2124d9a3",
   "metadata": {},
   "outputs": [],
   "source": [
    "flowers2 = data1[data1.target != 0]"
   ]
  },
  {
   "cell_type": "code",
   "execution_count": 47,
   "id": "eab80d7f",
   "metadata": {},
   "outputs": [],
   "source": [
    "data_flowers1 = flowers1.iloc[:, :-1]\n",
    "data_flowers2 = flowers2.iloc[:, :-1]"
   ]
  },
  {
   "cell_type": "code",
   "execution_count": 48,
   "id": "bc1898fc",
   "metadata": {},
   "outputs": [],
   "source": [
    "target_flowers1 = flowers1.iloc[:, -1]\n",
    "target_flowers2 = flowers2.iloc[:, -1]\n",
    "\n",
    "target_flowers1.replace(1,0, inplace=True) # resetting target to normal values. [2, 1] -> [1, 0]\n",
    "target_flowers2.replace(2,1, inplace=True)"
   ]
  },
  {
   "cell_type": "markdown",
   "id": "476ec320",
   "metadata": {},
   "source": [
    "#### Manually creating the datasets for logic gates"
   ]
  },
  {
   "cell_type": "code",
   "execution_count": 49,
   "id": "784a963c",
   "metadata": {},
   "outputs": [],
   "source": [
    "AND_data = {'data':[[0, 0],\n",
    "                    [0, 1],\n",
    "                    [1, 0],\n",
    "                    [1, 1]], 'target':[0, 0, 0, 1]}\n",
    "\n",
    "XOR_data = {'data':[[0, 0],\n",
    "                    [0, 1],\n",
    "                    [1, 0],\n",
    "                    [1, 1]], 'target':[0, 1, 1, 0]}"
   ]
  },
  {
   "cell_type": "markdown",
   "id": "18b558ad",
   "metadata": {},
   "source": [
    "#### Split flower and digit data in train/test sets"
   ]
  },
  {
   "cell_type": "code",
   "execution_count": 50,
   "id": "b69f67b5",
   "metadata": {},
   "outputs": [],
   "source": [
    "# Flowers Setosa and Versicolour\n",
    "flower_data1 = data_flowers1.values.tolist() # Convert dataframe to list\n",
    "flower_target1 = target_flowers1.values.tolist()\n",
    "\n",
    "X_train1, X_test1, Y_train1, Y_test1 = train_test_split(\n",
    "    flower_data1, flower_target1, test_size = 0.20, random_state=1)\n",
    "\n",
    "# Flowers Versicolour and Verginica\n",
    "flower_data2 = data_flowers2.values.tolist()\n",
    "flower_target2 = target_flowers2.values.tolist()\n",
    "\n",
    "X_train2, X_test2, Y_train2, Y_test2 = train_test_split(\n",
    "    flower_data2, flower_target2, test_size = 0.20, random_state=1)\n",
    "\n",
    "# Digits\n",
    "digit_data = data_digits.values.tolist()\n",
    "digit_target = target_digits.values.tolist()\n",
    "\n",
    "X_train3, X_test3, Y_train3, Y_test3 = train_test_split(\n",
    "    digit_data, digit_target, test_size = 0.20, random_state=1)"
   ]
  },
  {
   "cell_type": "markdown",
   "id": "cd0525f7",
   "metadata": {},
   "source": [
    "### AND-gate"
   ]
  },
  {
   "cell_type": "code",
   "execution_count": 21,
   "id": "612c1003",
   "metadata": {
    "scrolled": false
   },
   "outputs": [
    {
     "name": "stdout",
     "output_type": "stream",
     "text": [
      "Total cost under 0.01. Ending training early at epoch: 306\n"
     ]
    }
   ],
   "source": [
    "neuron_network1 = NeuronNetwork()\n",
    "neuron_network1.create_layers(2,[], 1)\n",
    "\n",
    "neuron_network1.train(AND_data['data'], AND_data['target'], l_rate=0.5, epochs=10000)"
   ]
  },
  {
   "cell_type": "code",
   "execution_count": 23,
   "id": "07f1b101",
   "metadata": {},
   "outputs": [
    {
     "data": {
      "text/plain": [
       "1.0"
      ]
     },
     "execution_count": 23,
     "metadata": {},
     "output_type": "execute_result"
    }
   ],
   "source": [
    "y_pred = []\n",
    "for i in AND_data['data']:\n",
    "    y_pred.append(neuron_network1.feed_forward(i, perceptron=True))\n",
    "accuracy = accuracy_score(AND_data['target'], y_pred)\n",
    "accuracy"
   ]
  },
  {
   "cell_type": "markdown",
   "id": "363f48f5",
   "metadata": {},
   "source": [
    "`100%` accuracy."
   ]
  },
  {
   "cell_type": "markdown",
   "id": "add75444",
   "metadata": {},
   "source": [
    "### XOR-gate"
   ]
  },
  {
   "cell_type": "code",
   "execution_count": 139,
   "id": "08db1534",
   "metadata": {},
   "outputs": [
    {
     "name": "stdout",
     "output_type": "stream",
     "text": [
      "Total cost under 0.01. Ending training early at epoch: 1645\n"
     ]
    }
   ],
   "source": [
    "neuron_network3 = NeuronNetwork()\n",
    "neuron_network3.create_layers(2,[2], 1)\n",
    "\n",
    "neuron_network3.train(XOR_data['data'], XOR_data['target'], l_rate=0.5, epochs=10000)  "
   ]
  },
  {
   "cell_type": "code",
   "execution_count": 26,
   "id": "f9abeed0",
   "metadata": {
    "scrolled": true
   },
   "outputs": [
    {
     "data": {
      "text/plain": [
       "1.0"
      ]
     },
     "execution_count": 26,
     "metadata": {},
     "output_type": "execute_result"
    }
   ],
   "source": [
    "y_pred = []\n",
    "for i in XOR_data['data']:\n",
    "    y_pred.append(neuron_network3.feed_forward(i, perceptron=True))\n",
    "\n",
    "accuracy = accuracy_score(XOR_data['target'], y_pred)\n",
    "accuracy"
   ]
  },
  {
   "cell_type": "markdown",
   "id": "102ac66b",
   "metadata": {},
   "source": [
    "**Conclusion**: Unlike a perceptron, a neuron **can** be trained on a XOR-gate as we're able to create multiple layers. <br>The  accuracy is `100%`\n",
    "\n",
    "However there are cases where the network trains for more than 10k, 25k and even 50k epochs but is stuck at a cost higher than 0.5. <br>Using different learning rates doesn't seem to solve this problem. The easiest, most immediate solution is to increase the amount of neurons in the hidden layers from 2 to 3. This guarantees the success rate to 100%."
   ]
  },
  {
   "cell_type": "markdown",
   "id": "f160e466",
   "metadata": {},
   "source": [
    "### Flower dataset1 (Setosa en Versicolour)"
   ]
  },
  {
   "cell_type": "code",
   "execution_count": 27,
   "id": "17604271",
   "metadata": {
    "scrolled": true
   },
   "outputs": [
    {
     "name": "stdout",
     "output_type": "stream",
     "text": [
      "Total cost under 0.01. Ending training early at epoch: 1\n"
     ]
    }
   ],
   "source": [
    "neuron_network4 = NeuronNetwork()\n",
    "neuron_network4.create_layers(4,[], 1)\n",
    "neuron_network4.train(X_train1, Y_train1, l_rate=0.5, epochs=10000) "
   ]
  },
  {
   "cell_type": "code",
   "execution_count": 28,
   "id": "f94c0efd",
   "metadata": {
    "scrolled": true
   },
   "outputs": [
    {
     "data": {
      "text/plain": [
       "1.0"
      ]
     },
     "execution_count": 28,
     "metadata": {},
     "output_type": "execute_result"
    }
   ],
   "source": [
    "y_pred = []\n",
    "for i in X_test1:\n",
    "    y_pred.append(neuron_network4.feed_forward(i, perceptron=True))\n",
    "\n",
    "accuracy = accuracy_score(Y_test1, y_pred)\n",
    "accuracy"
   ]
  },
  {
   "cell_type": "markdown",
   "id": "3981732a",
   "metadata": {},
   "source": [
    "**Conclusion**: Just like with the XOR-gate, a neuron **can** be trained on the first flower dataset. <br>The  accuracy is `100%`"
   ]
  },
  {
   "cell_type": "markdown",
   "id": "4b3e9012",
   "metadata": {},
   "source": [
    "### Flower dataset2 (Versicolour en Verginica)"
   ]
  },
  {
   "cell_type": "code",
   "execution_count": 29,
   "id": "5beed974",
   "metadata": {},
   "outputs": [
    {
     "name": "stdout",
     "output_type": "stream",
     "text": [
      "Total cost under 0.01. Ending training early at epoch: 1\n"
     ]
    }
   ],
   "source": [
    "neuron_network5 = NeuronNetwork()\n",
    "neuron_network5.create_layers(4,[], 1)\n",
    "neuron_network5.train(X_train2, Y_train2, l_rate=0.5, epochs=10000) "
   ]
  },
  {
   "cell_type": "code",
   "execution_count": 30,
   "id": "d707a60a",
   "metadata": {},
   "outputs": [
    {
     "data": {
      "text/plain": [
       "1.0"
      ]
     },
     "execution_count": 30,
     "metadata": {},
     "output_type": "execute_result"
    }
   ],
   "source": [
    "y_pred = []\n",
    "\n",
    "for i in X_test2:\n",
    "    y_pred.append(neuron_network5.feed_forward(i, perceptron=True))\n",
    "\n",
    "accuracy = accuracy_score(Y_test2, y_pred)\n",
    "accuracy    "
   ]
  },
  {
   "cell_type": "markdown",
   "id": "3990ff29",
   "metadata": {},
   "source": [
    "**Conclusion**: Just like with the XOR-gate, a neuron **can** be trained on the second flower dataset. <br>The  accuracy is `100%`"
   ]
  },
  {
   "cell_type": "markdown",
   "id": "e0328fe3",
   "metadata": {},
   "source": [
    "# Digits dataset"
   ]
  },
  {
   "cell_type": "markdown",
   "id": "e0d7b490",
   "metadata": {},
   "source": [
    "Dataprep the targets. For example:\n",
    "<br>\n",
    "Target [8] turns into [0, 0, 0, 0, 0, 0, 0, 0, 1, 0]\n",
    "<br>\n",
    "Target [9] turns into [0, 0, 0, 0, 0, 0, 0, 0, 0, 1]"
   ]
  },
  {
   "cell_type": "code",
   "execution_count": 52,
   "id": "e5813444",
   "metadata": {},
   "outputs": [],
   "source": [
    "for counter, i in enumerate(Y_train3):\n",
    "    new_target = [0, 0, 0, 0, 0, 0, 0, 0, 0, 0]\n",
    "    index = int(i)\n",
    "    new_target[index] = 1\n",
    "    Y_train3[counter] = new_target \n",
    "    \n",
    "for counter, i in enumerate(Y_test3):\n",
    "    new_target = [0, 0, 0, 0, 0, 0, 0, 0, 0, 0]\n",
    "    index = int(i)\n",
    "    new_target[index] = 1\n",
    "    Y_test3[counter] = new_target    "
   ]
  },
  {
   "cell_type": "markdown",
   "id": "4e0ef0f5",
   "metadata": {},
   "source": [
    "## Testing network to find optimal parameters\n",
    "#### Testing learning rates"
   ]
  },
  {
   "cell_type": "code",
   "execution_count": 104,
   "id": "a5387ae8",
   "metadata": {},
   "outputs": [
    {
     "name": "stdout",
     "output_type": "stream",
     "text": [
      "Training finished after: 10 epochs\n",
      "Total cost: 0.43910617229804283\n",
      "CPU times: total: 5.23 s\n",
      "Wall time: 5.23 s\n"
     ]
    }
   ],
   "source": [
    "neuron_network = NeuronNetwork()\n",
    "neuron_network.create_layers(64,[16], 10)\n",
    "%time neuron_network.train(X_train3, Y_train3, l_rate=0.01, epochs=10) "
   ]
  },
  {
   "cell_type": "code",
   "execution_count": 108,
   "id": "b1d1f136",
   "metadata": {},
   "outputs": [
    {
     "name": "stdout",
     "output_type": "stream",
     "text": [
      "Training finished after: 10 epochs\n",
      "Total cost: 0.3215704154299606\n",
      "CPU times: total: 5.17 s\n",
      "Wall time: 5.17 s\n"
     ]
    }
   ],
   "source": [
    "neuron_network = NeuronNetwork()\n",
    "neuron_network.create_layers(64,[16], 10)\n",
    "%time neuron_network.train(X_train3, Y_train3, l_rate=0.05, epochs=10) "
   ]
  },
  {
   "cell_type": "code",
   "execution_count": 109,
   "id": "ae1fddc0",
   "metadata": {},
   "outputs": [
    {
     "name": "stdout",
     "output_type": "stream",
     "text": [
      "Training finished after: 10 epochs\n",
      "Total cost: 0.39067497162497394\n",
      "CPU times: total: 5.3 s\n",
      "Wall time: 5.29 s\n"
     ]
    }
   ],
   "source": [
    "neuron_network = NeuronNetwork()\n",
    "neuron_network.create_layers(64,[16], 10)\n",
    "%time neuron_network.train(X_train3, Y_train3, l_rate=0.1, epochs=10) "
   ]
  },
  {
   "cell_type": "code",
   "execution_count": 113,
   "id": "569455e5",
   "metadata": {},
   "outputs": [
    {
     "name": "stdout",
     "output_type": "stream",
     "text": [
      "Training finished after: 10 epochs\n",
      "Total cost: 0.45654931548874067\n",
      "CPU times: total: 5.16 s\n",
      "Wall time: 5.18 s\n"
     ]
    }
   ],
   "source": [
    "neuron_network = NeuronNetwork()\n",
    "neuron_network.create_layers(64,[16], 10)\n",
    "%time neuron_network.train(X_train3, Y_train3, l_rate=0.5, epochs=10) "
   ]
  },
  {
   "cell_type": "markdown",
   "id": "5a893780",
   "metadata": {},
   "source": [
    "Learning rate `0.05` seems the most optimal of the 4"
   ]
  },
  {
   "cell_type": "markdown",
   "id": "e815cec8",
   "metadata": {},
   "source": [
    "### Testing neuron amount for 1st hidden layer"
   ]
  },
  {
   "cell_type": "code",
   "execution_count": 110,
   "id": "8bdeeecf",
   "metadata": {},
   "outputs": [
    {
     "name": "stdout",
     "output_type": "stream",
     "text": [
      "Training finished after: 10 epochs\n",
      "Total cost: 0.318854425907881\n",
      "CPU times: total: 10 s\n",
      "Wall time: 10 s\n"
     ]
    }
   ],
   "source": [
    "neuron_network = NeuronNetwork()\n",
    "neuron_network.create_layers(64,[32], 10)\n",
    "%time neuron_network.train(X_train3, Y_train3, l_rate=0.05, epochs=10) "
   ]
  },
  {
   "cell_type": "code",
   "execution_count": 111,
   "id": "36bc6cd4",
   "metadata": {},
   "outputs": [
    {
     "name": "stdout",
     "output_type": "stream",
     "text": [
      "Training finished after: 10 epochs\n",
      "Total cost: 0.24981427839919204\n",
      "CPU times: total: 19.8 s\n",
      "Wall time: 19.8 s\n"
     ]
    }
   ],
   "source": [
    "neuron_network = NeuronNetwork()\n",
    "neuron_network.create_layers(64,[64], 10)\n",
    "%time neuron_network.train(X_train3, Y_train3, l_rate=0.05, epochs=10) "
   ]
  },
  {
   "cell_type": "code",
   "execution_count": 112,
   "id": "33f6cf75",
   "metadata": {
    "scrolled": true
   },
   "outputs": [
    {
     "name": "stdout",
     "output_type": "stream",
     "text": [
      "Training finished after: 10 epochs\n",
      "Total cost: 0.29221254323467755\n",
      "CPU times: total: 38.4 s\n",
      "Wall time: 38.4 s\n"
     ]
    }
   ],
   "source": [
    "neuron_network = NeuronNetwork()\n",
    "neuron_network.create_layers(64,[128], 10)\n",
    "%time neuron_network.train(X_train3, Y_train3, l_rate=0.05, epochs=10) "
   ]
  },
  {
   "cell_type": "markdown",
   "id": "2a6912a1",
   "metadata": {},
   "source": [
    "An initial hidden layer with `64` neurons seems to be the most optimal as the first hidden layer"
   ]
  },
  {
   "cell_type": "markdown",
   "id": "2cc0521e",
   "metadata": {},
   "source": [
    "### Testing neuron amount for 2nd hidden layer"
   ]
  },
  {
   "cell_type": "code",
   "execution_count": 114,
   "id": "0195fcd6",
   "metadata": {},
   "outputs": [
    {
     "name": "stdout",
     "output_type": "stream",
     "text": [
      "Training finished after: 10 epochs\n",
      "Total cost: 0.3788958135734751\n",
      "CPU times: total: 20.1 s\n",
      "Wall time: 20.1 s\n"
     ]
    }
   ],
   "source": [
    "neuron_network = NeuronNetwork()\n",
    "neuron_network.create_layers(64,[64, 16], 10)\n",
    "%time neuron_network.train(X_train3, Y_train3, l_rate=0.05, epochs=10) "
   ]
  },
  {
   "cell_type": "code",
   "execution_count": 115,
   "id": "d088cd11",
   "metadata": {},
   "outputs": [
    {
     "name": "stdout",
     "output_type": "stream",
     "text": [
      "Training finished after: 10 epochs\n",
      "Total cost: 0.3389125348912739\n",
      "CPU times: total: 24 s\n",
      "Wall time: 24.1 s\n"
     ]
    }
   ],
   "source": [
    "neuron_network = NeuronNetwork()\n",
    "neuron_network.create_layers(64,[64, 32], 10)\n",
    "%time neuron_network.train(X_train3, Y_train3, l_rate=0.05, epochs=10) "
   ]
  },
  {
   "cell_type": "code",
   "execution_count": 118,
   "id": "087146ac",
   "metadata": {},
   "outputs": [
    {
     "name": "stdout",
     "output_type": "stream",
     "text": [
      "Training finished after: 10 epochs\n",
      "Total cost: 0.2877682272677743\n",
      "CPU times: total: 32.1 s\n",
      "Wall time: 32.2 s\n"
     ]
    }
   ],
   "source": [
    "neuron_network = NeuronNetwork()\n",
    "neuron_network.create_layers(64,[64, 64], 10)\n",
    "%time neuron_network.train(X_train3, Y_train3, l_rate=0.05, epochs=10) "
   ]
  },
  {
   "cell_type": "code",
   "execution_count": 119,
   "id": "328942c8",
   "metadata": {},
   "outputs": [
    {
     "name": "stdout",
     "output_type": "stream",
     "text": [
      "Training finished after: 10 epochs\n",
      "Total cost: 0.2677023496705592\n",
      "CPU times: total: 49.6 s\n",
      "Wall time: 49.7 s\n"
     ]
    }
   ],
   "source": [
    "neuron_network = NeuronNetwork()\n",
    "neuron_network.create_layers(64,[64, 128], 10)\n",
    "%time neuron_network.train(X_train3, Y_train3, l_rate=0.05, epochs=10) "
   ]
  },
  {
   "cell_type": "markdown",
   "id": "82a02e41",
   "metadata": {},
   "source": [
    "Since both hidden layers [64, 64] and [64, 128] are about the same, we'll go with the more efficient hidden layer. `[64, 64]`"
   ]
  },
  {
   "cell_type": "markdown",
   "id": "b46db441",
   "metadata": {},
   "source": [
    "### Testing neuron amount for 3rd hidden layer"
   ]
  },
  {
   "cell_type": "code",
   "execution_count": 120,
   "id": "f23a722e",
   "metadata": {},
   "outputs": [
    {
     "name": "stdout",
     "output_type": "stream",
     "text": [
      "Training finished after: 10 epochs\n",
      "Total cost: 0.4236234608817822\n",
      "CPU times: total: 34 s\n",
      "Wall time: 34.2 s\n"
     ]
    }
   ],
   "source": [
    "neuron_network = NeuronNetwork()\n",
    "neuron_network.create_layers(64,[64, 64, 16], 10)\n",
    "%time neuron_network.train(X_train3, Y_train3, l_rate=0.05, epochs=10) "
   ]
  },
  {
   "cell_type": "code",
   "execution_count": 121,
   "id": "ca4624f9",
   "metadata": {},
   "outputs": [
    {
     "name": "stdout",
     "output_type": "stream",
     "text": [
      "Training finished after: 10 epochs\n",
      "Total cost: 0.3897088755145207\n",
      "CPU times: total: 36.7 s\n",
      "Wall time: 36.7 s\n"
     ]
    }
   ],
   "source": [
    "neuron_network = NeuronNetwork()\n",
    "neuron_network.create_layers(64,[64, 64, 32], 10)\n",
    "%time neuron_network.train(X_train3, Y_train3, l_rate=0.05, epochs=10) "
   ]
  },
  {
   "cell_type": "code",
   "execution_count": 122,
   "id": "abab28e2",
   "metadata": {},
   "outputs": [
    {
     "name": "stdout",
     "output_type": "stream",
     "text": [
      "Training finished after: 10 epochs\n",
      "Total cost: 0.31580776492469914\n",
      "CPU times: total: 43.5 s\n",
      "Wall time: 43.6 s\n"
     ]
    }
   ],
   "source": [
    "neuron_network = NeuronNetwork()\n",
    "neuron_network.create_layers(64,[64, 64, 64], 10)\n",
    "%time neuron_network.train(X_train3, Y_train3, l_rate=0.05, epochs=10) "
   ]
  },
  {
   "cell_type": "code",
   "execution_count": 123,
   "id": "dc729f2c",
   "metadata": {},
   "outputs": [
    {
     "name": "stdout",
     "output_type": "stream",
     "text": [
      "Training finished after: 10 epochs\n",
      "Total cost: 0.2671146887995671\n",
      "CPU times: total: 59.2 s\n",
      "Wall time: 59.2 s\n"
     ]
    }
   ],
   "source": [
    "neuron_network = NeuronNetwork()\n",
    "neuron_network.create_layers(64,[64, 64, 128], 10)\n",
    "%time neuron_network.train(X_train3, Y_train3, l_rate=0.05, epochs=10) "
   ]
  },
  {
   "cell_type": "code",
   "execution_count": 124,
   "id": "b95b0000",
   "metadata": {},
   "outputs": [
    {
     "name": "stdout",
     "output_type": "stream",
     "text": [
      "Training finished after: 10 epochs\n",
      "Total cost: 0.43226670559388264\n",
      "CPU times: total: 29.9 s\n",
      "Wall time: 30 s\n"
     ]
    }
   ],
   "source": [
    "neuron_network = NeuronNetwork()\n",
    "neuron_network.create_layers(64,[64, 64, 8], 10)\n",
    "%time neuron_network.train(X_train3, Y_train3, l_rate=0.05, epochs=10) "
   ]
  },
  {
   "cell_type": "code",
   "execution_count": 125,
   "id": "29029af9",
   "metadata": {},
   "outputs": [
    {
     "name": "stdout",
     "output_type": "stream",
     "text": [
      "Training finished after: 10 epochs\n",
      "Total cost: 0.42525057308943576\n",
      "CPU times: total: 45.8 s\n",
      "Wall time: 45.9 s\n"
     ]
    }
   ],
   "source": [
    "neuron_network = NeuronNetwork()\n",
    "neuron_network.create_layers(64,[64, 128, 16], 10)\n",
    "%time neuron_network.train(X_train3, Y_train3, l_rate=0.05, epochs=10) "
   ]
  },
  {
   "cell_type": "code",
   "execution_count": 126,
   "id": "0c9f3d88",
   "metadata": {},
   "outputs": [
    {
     "name": "stdout",
     "output_type": "stream",
     "text": [
      "Training finished after: 10 epochs\n",
      "Total cost: 0.3958083197895224\n",
      "CPU times: total: 52.3 s\n",
      "Wall time: 52.3 s\n"
     ]
    }
   ],
   "source": [
    "neuron_network = NeuronNetwork()\n",
    "neuron_network.create_layers(64,[64, 128, 32], 10)\n",
    "%time neuron_network.train(X_train3, Y_train3, l_rate=0.05, epochs=10) "
   ]
  },
  {
   "cell_type": "code",
   "execution_count": 127,
   "id": "5f4ca0ac",
   "metadata": {},
   "outputs": [
    {
     "name": "stdout",
     "output_type": "stream",
     "text": [
      "Training finished after: 10 epochs\n",
      "Total cost: 0.28825409032402016\n",
      "CPU times: total: 1min 4s\n",
      "Wall time: 1min 4s\n"
     ]
    }
   ],
   "source": [
    "neuron_network = NeuronNetwork()\n",
    "neuron_network.create_layers(64,[64, 128, 64], 10)\n",
    "%time neuron_network.train(X_train3, Y_train3, l_rate=0.05, epochs=10) "
   ]
  },
  {
   "cell_type": "code",
   "execution_count": 128,
   "id": "109eed26",
   "metadata": {
    "scrolled": true
   },
   "outputs": [
    {
     "name": "stdout",
     "output_type": "stream",
     "text": [
      "Training finished after: 10 epochs\n",
      "Total cost: 0.2563250833050042\n",
      "CPU times: total: 1min 30s\n",
      "Wall time: 1min 31s\n"
     ]
    }
   ],
   "source": [
    "neuron_network = NeuronNetwork()\n",
    "neuron_network.create_layers(64,[64, 128, 128], 10)\n",
    "%time neuron_network.train(X_train3, Y_train3, l_rate=0.05, epochs=10) "
   ]
  },
  {
   "cell_type": "markdown",
   "id": "e9607a78",
   "metadata": {},
   "source": [
    "After testing multiple networks with 3 hidden layers containing different neuron amounts, the best result seems to be the hidden layer with these neurons `[64, 64, 128]`, which gives a final cost of `0.267` after 10 epochs. Not that great, knowing that we already reach this result with hidden layers [64, 64]."
   ]
  },
  {
   "cell_type": "markdown",
   "id": "28477ab9",
   "metadata": {},
   "source": [
    "### Testing neuron amount for 4th hidden layer [FINAL]"
   ]
  },
  {
   "cell_type": "code",
   "execution_count": 129,
   "id": "5042a7cf",
   "metadata": {},
   "outputs": [
    {
     "name": "stdout",
     "output_type": "stream",
     "text": [
      "Training finished after: 10 epochs\n",
      "Total cost: 0.42341093678340386\n",
      "CPU times: total: 1min 29s\n",
      "Wall time: 1min 30s\n"
     ]
    }
   ],
   "source": [
    "neuron_network = NeuronNetwork()\n",
    "neuron_network.create_layers(64,[64, 128, 128, 16], 10)\n",
    "%time neuron_network.train(X_train3, Y_train3, l_rate=0.05, epochs=10) "
   ]
  },
  {
   "cell_type": "code",
   "execution_count": 130,
   "id": "4dc06fbf",
   "metadata": {},
   "outputs": [
    {
     "name": "stdout",
     "output_type": "stream",
     "text": [
      "Training finished after: 10 epochs\n",
      "Total cost: 0.37582565036987353\n",
      "CPU times: total: 1min 36s\n",
      "Wall time: 1min 36s\n"
     ]
    }
   ],
   "source": [
    "neuron_network = NeuronNetwork()\n",
    "neuron_network.create_layers(64,[64, 128, 128, 32], 10)\n",
    "%time neuron_network.train(X_train3, Y_train3, l_rate=0.05, epochs=10) "
   ]
  },
  {
   "cell_type": "code",
   "execution_count": 131,
   "id": "70d0f73e",
   "metadata": {},
   "outputs": [
    {
     "name": "stdout",
     "output_type": "stream",
     "text": [
      "Training finished after: 10 epochs\n",
      "Total cost: 0.3913661431778733\n",
      "CPU times: total: 1min 48s\n",
      "Wall time: 1min 49s\n"
     ]
    }
   ],
   "source": [
    "neuron_network = NeuronNetwork()\n",
    "neuron_network.create_layers(64,[64, 128, 128, 64], 10)\n",
    "%time neuron_network.train(X_train3, Y_train3, l_rate=0.05, epochs=10) "
   ]
  },
  {
   "cell_type": "code",
   "execution_count": 132,
   "id": "eb1524b5",
   "metadata": {},
   "outputs": [
    {
     "name": "stdout",
     "output_type": "stream",
     "text": [
      "Training finished after: 10 epochs\n",
      "Total cost: 0.36093652671530335\n",
      "CPU times: total: 2min 14s\n",
      "Wall time: 2min 14s\n"
     ]
    }
   ],
   "source": [
    "neuron_network = NeuronNetwork()\n",
    "neuron_network.create_layers(64,[64, 128, 128, 128], 10)\n",
    "%time neuron_network.train(X_train3, Y_train3, l_rate=0.05, epochs=10) "
   ]
  },
  {
   "cell_type": "markdown",
   "id": "b513bacf",
   "metadata": {},
   "source": [
    "The best cost we get after 10 epochs with 4 hidden layers is around `0.36`, which is worse than we previously got.\n",
    "<br>\n",
    "Therefore we will keep the best result. `[64, 64]`."
   ]
  },
  {
   "cell_type": "markdown",
   "id": "3348ab5f",
   "metadata": {},
   "source": [
    "### Testing the network"
   ]
  },
  {
   "cell_type": "code",
   "execution_count": 133,
   "id": "8b0b2280",
   "metadata": {},
   "outputs": [
    {
     "name": "stdout",
     "output_type": "stream",
     "text": [
      "Training finished after: 100 epochs\n",
      "Total cost: 0.14531091848972214\n",
      "CPU times: total: 5min 34s\n",
      "Wall time: 5min 35s\n"
     ]
    }
   ],
   "source": [
    "neuron_network = NeuronNetwork()\n",
    "neuron_network.create_layers(64,[64, 64], 10)\n",
    "%time neuron_network.train(X_train3, Y_train3, l_rate=0.05, epochs=100) "
   ]
  },
  {
   "cell_type": "code",
   "execution_count": 134,
   "id": "3bdf024b",
   "metadata": {},
   "outputs": [
    {
     "data": {
      "text/plain": [
       "0.8138888888888889"
      ]
     },
     "execution_count": 134,
     "metadata": {},
     "output_type": "execute_result"
    }
   ],
   "source": [
    "y_pred = []\n",
    "\n",
    "for i in X_test3:\n",
    "    output = neuron_network.feed_forward(i)\n",
    "    lst = [0] * len(output)\n",
    "    max_index = output.index(max(output))\n",
    "    lst[max_index] = 1\n",
    "    \n",
    "    y_pred.append(lst)\n",
    "\n",
    "accuracy = accuracy_score(Y_test3, y_pred)\n",
    "accuracy    "
   ]
  },
  {
   "cell_type": "markdown",
   "id": "b6b9d2fb",
   "metadata": {},
   "source": [
    "After 100 epochs we get an accuracy of 0.81 = `81%`. \n",
    "<br>\n",
    "Not too bad, but what if we up it to 1000 epochs? Let's find out."
   ]
  },
  {
   "cell_type": "code",
   "execution_count": 135,
   "id": "56891de7",
   "metadata": {},
   "outputs": [
    {
     "name": "stdout",
     "output_type": "stream",
     "text": [
      "Training finished after: 1000 epochs\n",
      "Total cost: 0.1860391479705559\n",
      "CPU times: total: 57min 23s\n",
      "Wall time: 57min 44s\n"
     ]
    }
   ],
   "source": [
    "neuron_network01 = NeuronNetwork()\n",
    "neuron_network01.create_layers(64,[64, 64], 10)\n",
    "%time neuron_network01.train(X_train3, Y_train3, l_rate=0.05, epochs=1000) "
   ]
  },
  {
   "cell_type": "code",
   "execution_count": 136,
   "id": "f2ffbeaa",
   "metadata": {},
   "outputs": [
    {
     "data": {
      "text/plain": [
       "0.7694444444444445"
      ]
     },
     "execution_count": 136,
     "metadata": {},
     "output_type": "execute_result"
    }
   ],
   "source": [
    "y_pred = []\n",
    "\n",
    "for i in X_test3:\n",
    "    output = neuron_network01.feed_forward(i)\n",
    "    lst = [0] * len(output)\n",
    "    max_index = output.index(max(output))\n",
    "    lst[max_index] = 1\n",
    "    \n",
    "    y_pred.append(lst)\n",
    "\n",
    "accuracy = accuracy_score(Y_test3, y_pred)\n",
    "accuracy    "
   ]
  },
  {
   "cell_type": "markdown",
   "id": "f5162433",
   "metadata": {},
   "source": [
    "After 1000 epochs and almost an hour, we get an accuracy of 0.77 = `77%`. \n",
    "<br>\n",
    "Less than what we're able to reach with just 100 epochs."
   ]
  },
  {
   "cell_type": "markdown",
   "id": "65f1bc06",
   "metadata": {},
   "source": [
    "**Conclusion**: a neural network containing 2 hidden layers with 64 neurons each gives the best result.\n",
    "<br>\n",
    "And a learning rate of 0.05 seems to be the most optimal. \n",
    "<br>\n",
    "After running 100 epochs, an accuracy of `~80%` can be expected. Running more epochs doesn't seem to be beneficial."
   ]
  }
 ],
 "metadata": {
  "kernelspec": {
   "display_name": "Python 3 (ipykernel)",
   "language": "python",
   "name": "python3"
  },
  "language_info": {
   "codemirror_mode": {
    "name": "ipython",
    "version": 3
   },
   "file_extension": ".py",
   "mimetype": "text/x-python",
   "name": "python",
   "nbconvert_exporter": "python",
   "pygments_lexer": "ipython3",
   "version": "3.10.2"
  }
 },
 "nbformat": 4,
 "nbformat_minor": 5
}
