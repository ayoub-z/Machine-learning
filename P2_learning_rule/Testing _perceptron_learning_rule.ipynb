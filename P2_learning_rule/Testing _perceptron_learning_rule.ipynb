{
 "cells": [
  {
   "cell_type": "code",
   "execution_count": 1,
   "id": "d639f9c4",
   "metadata": {},
   "outputs": [],
   "source": [
    "from Perceptron import Perceptron\n",
    "\n",
    "from sklearn.datasets import load_iris\n",
    "from sklearn import datasets\n",
    "from sklearn.model_selection import train_test_split\n",
    "from sklearn.metrics import accuracy_score\n",
    "\n",
    "import numpy as np\n",
    "import pandas as pd\n",
    "import statistics"
   ]
  },
  {
   "cell_type": "markdown",
   "id": "6acee7c4",
   "metadata": {},
   "source": [
    "#### Load dataset and convert to df"
   ]
  },
  {
   "cell_type": "code",
   "execution_count": 2,
   "id": "69bf8ddc",
   "metadata": {},
   "outputs": [],
   "source": [
    "iris = datasets.load_iris()"
   ]
  },
  {
   "cell_type": "code",
   "execution_count": 3,
   "id": "8271e510",
   "metadata": {},
   "outputs": [],
   "source": [
    "data1 = pd.DataFrame(data= np.c_[iris['data'], iris['target']],\n",
    "                     columns= iris['feature_names'] + ['target'])"
   ]
  },
  {
   "cell_type": "code",
   "execution_count": 4,
   "id": "de2a61c2",
   "metadata": {
    "scrolled": false
   },
   "outputs": [
    {
     "data": {
      "text/html": [
       "<div>\n",
       "<style scoped>\n",
       "    .dataframe tbody tr th:only-of-type {\n",
       "        vertical-align: middle;\n",
       "    }\n",
       "\n",
       "    .dataframe tbody tr th {\n",
       "        vertical-align: top;\n",
       "    }\n",
       "\n",
       "    .dataframe thead th {\n",
       "        text-align: right;\n",
       "    }\n",
       "</style>\n",
       "<table border=\"1\" class=\"dataframe\">\n",
       "  <thead>\n",
       "    <tr style=\"text-align: right;\">\n",
       "      <th></th>\n",
       "      <th>sepal length (cm)</th>\n",
       "      <th>sepal width (cm)</th>\n",
       "      <th>petal length (cm)</th>\n",
       "      <th>petal width (cm)</th>\n",
       "      <th>target</th>\n",
       "    </tr>\n",
       "  </thead>\n",
       "  <tbody>\n",
       "    <tr>\n",
       "      <th>52</th>\n",
       "      <td>6.9</td>\n",
       "      <td>3.1</td>\n",
       "      <td>4.9</td>\n",
       "      <td>1.5</td>\n",
       "      <td>1.0</td>\n",
       "    </tr>\n",
       "  </tbody>\n",
       "</table>\n",
       "</div>"
      ],
      "text/plain": [
       "    sepal length (cm)  sepal width (cm)  petal length (cm)  petal width (cm)  \\\n",
       "52                6.9               3.1                4.9               1.5   \n",
       "\n",
       "    target  \n",
       "52     1.0  "
      ]
     },
     "execution_count": 4,
     "metadata": {},
     "output_type": "execute_result"
    }
   ],
   "source": [
    "data1.sample()"
   ]
  },
  {
   "cell_type": "markdown",
   "id": "b513735b",
   "metadata": {},
   "source": [
    "#### Classifying the flowers"
   ]
  },
  {
   "cell_type": "code",
   "execution_count": 5,
   "id": "faf7d262",
   "metadata": {},
   "outputs": [],
   "source": [
    "setosa = 0\n",
    "versicolor = 1\n",
    "virginica = 2"
   ]
  },
  {
   "cell_type": "markdown",
   "id": "1b8133e5",
   "metadata": {},
   "source": [
    "#### Filter the flowers into two datasets.\n",
    "\n",
    "flowers1 = `Setosa and Versicolour` <br>\n",
    "flowers2 = `Versicolour and Verginica`\n"
   ]
  },
  {
   "cell_type": "code",
   "execution_count": 6,
   "id": "4ea119c5",
   "metadata": {},
   "outputs": [],
   "source": [
    "flowers1 = data1[data1.target != 2]"
   ]
  },
  {
   "cell_type": "code",
   "execution_count": 7,
   "id": "2124d9a3",
   "metadata": {},
   "outputs": [],
   "source": [
    "flowers2 = data1[data1.target != 0]"
   ]
  },
  {
   "cell_type": "code",
   "execution_count": 8,
   "id": "eab80d7f",
   "metadata": {},
   "outputs": [],
   "source": [
    "data_flowers1 = flowers1.iloc[:, :-1]\n",
    "data_flowers2 = flowers2.iloc[:, :-1]"
   ]
  },
  {
   "cell_type": "code",
   "execution_count": 9,
   "id": "bc1898fc",
   "metadata": {},
   "outputs": [],
   "source": [
    "target_flowers1 = flowers1.iloc[:, -1]\n",
    "target_flowers2 = flowers2.iloc[:, -1]"
   ]
  },
  {
   "cell_type": "markdown",
   "id": "476ec320",
   "metadata": {},
   "source": [
    "#### Manually creating the dataset for logic gates"
   ]
  },
  {
   "cell_type": "code",
   "execution_count": 10,
   "id": "784a963c",
   "metadata": {},
   "outputs": [],
   "source": [
    "AND_data = {'data':[[0, 0],\n",
    "                    [0, 1],\n",
    "                    [1, 0],\n",
    "                    [1, 1]], 'target':[0, 0, 0, 1]}\n",
    "\n",
    "OR_data = {'data':[[0, 0],\n",
    "                   [0, 1],\n",
    "                   [1, 0],\n",
    "                   [1, 1]], 'target':[0, 1, 1, 1]}\n",
    "\n",
    "XOR_data = {'data':[[0, 0],\n",
    "                    [0, 1],\n",
    "                    [1, 0],\n",
    "                    [1, 1]], 'target':[0, 1, 1, 0]}"
   ]
  },
  {
   "cell_type": "markdown",
   "id": "18b558ad",
   "metadata": {},
   "source": [
    "#### Split flower data in train/test sets"
   ]
  },
  {
   "cell_type": "code",
   "execution_count": 11,
   "id": "b69f67b5",
   "metadata": {},
   "outputs": [],
   "source": [
    "flower_data1 = data_flowers1.to_numpy() # .to_numpy() converts dataframe back to a numpy array\n",
    "flower_target1 = target_flowers1.to_numpy()\n",
    "\n",
    "X_train1, X_test1, Y_train1, Y_test1 = train_test_split(\n",
    "    flower_data1, flower_target1, test_size = 0.20, random_state=1)\n",
    "\n",
    "\n",
    "flower_data2 = data_flowers2.to_numpy()\n",
    "flower_target2 = target_flowers2.to_numpy()\n",
    "\n",
    "X_train2, X_test2, Y_train2, Y_test2 = train_test_split(\n",
    "    flower_data2, flower_target2, test_size = 0.20, random_state=1)"
   ]
  },
  {
   "cell_type": "markdown",
   "id": "cd0525f7",
   "metadata": {},
   "source": [
    "### AND-gate"
   ]
  },
  {
   "cell_type": "code",
   "execution_count": 12,
   "id": "612c1003",
   "metadata": {
    "scrolled": false
   },
   "outputs": [
    {
     "name": "stdout",
     "output_type": "stream",
     "text": [
      "\n",
      "Model is 100% succesful after 8 epochs. Stopping...\n",
      "Final bias = -0.43 and weights are [0.07, 0.4]\n"
     ]
    },
    {
     "data": {
      "text/plain": [
       "1"
      ]
     },
     "execution_count": 12,
     "metadata": {},
     "output_type": "execute_result"
    }
   ],
   "source": [
    "perceptron1 = Perceptron()\n",
    "perceptron1.activate(AND_data['data'], AND_data['target'], 1000, 0.1, verbose=False) "
   ]
  },
  {
   "cell_type": "code",
   "execution_count": 13,
   "id": "07f1b101",
   "metadata": {},
   "outputs": [
    {
     "data": {
      "text/plain": [
       "1.0"
      ]
     },
     "execution_count": 13,
     "metadata": {},
     "output_type": "execute_result"
    }
   ],
   "source": [
    "y_pred = []\n",
    "for i in AND_data['data']:\n",
    "    y_pred.append(perceptron1.get_output(i))\n",
    "\n",
    "accuracy = accuracy_score(AND_data['target'], y_pred)\n",
    "accuracy"
   ]
  },
  {
   "cell_type": "markdown",
   "id": "363f48f5",
   "metadata": {},
   "source": [
    "`100%` accuracy."
   ]
  },
  {
   "cell_type": "markdown",
   "id": "318a9720",
   "metadata": {},
   "source": [
    "### OR-gate"
   ]
  },
  {
   "cell_type": "code",
   "execution_count": 14,
   "id": "ffa40c1f",
   "metadata": {
    "scrolled": true
   },
   "outputs": [
    {
     "name": "stdout",
     "output_type": "stream",
     "text": [
      "\n",
      "Model is 100% succesful after 13 epochs. Stopping...\n",
      "Final bias = -0.01 and weights are [0.28, 0.06]\n"
     ]
    },
    {
     "data": {
      "text/plain": [
       "1"
      ]
     },
     "execution_count": 14,
     "metadata": {},
     "output_type": "execute_result"
    }
   ],
   "source": [
    "perceptron2 = Perceptron()\n",
    "perceptron2.activate(OR_data['data'], OR_data['target'], 1000, 0.1, verbose=False)  "
   ]
  },
  {
   "cell_type": "code",
   "execution_count": 15,
   "id": "a249c564",
   "metadata": {},
   "outputs": [
    {
     "data": {
      "text/plain": [
       "1.0"
      ]
     },
     "execution_count": 15,
     "metadata": {},
     "output_type": "execute_result"
    }
   ],
   "source": [
    "y_pred = []\n",
    "for i in OR_data['data']:\n",
    "    y_pred.append(perceptron2.get_output(i))\n",
    "\n",
    "accuracy = accuracy_score(OR_data['target'], y_pred)\n",
    "accuracy"
   ]
  },
  {
   "cell_type": "markdown",
   "id": "e1496ef5",
   "metadata": {},
   "source": [
    "`100%` accuracy."
   ]
  },
  {
   "cell_type": "markdown",
   "id": "add75444",
   "metadata": {},
   "source": [
    "### XOR-gate"
   ]
  },
  {
   "cell_type": "code",
   "execution_count": 27,
   "id": "08db1534",
   "metadata": {},
   "outputs": [
    {
     "name": "stdout",
     "output_type": "stream",
     "text": [
      "\n",
      "Model is unable to perfrom succesfully 100% of the time. Stopping after 1000 epochs...\n",
      "Final bias = 0.07 and weights are [-0.13, -0.03]\n",
      "\n"
     ]
    },
    {
     "data": {
      "text/plain": [
       "0"
      ]
     },
     "execution_count": 27,
     "metadata": {},
     "output_type": "execute_result"
    }
   ],
   "source": [
    "perceptron3 = Perceptron()\n",
    "perceptron3.activate(XOR_data['data'], XOR_data['target'], 1000, 0.1, verbose=False)  "
   ]
  },
  {
   "cell_type": "code",
   "execution_count": 28,
   "id": "f9abeed0",
   "metadata": {
    "scrolled": true
   },
   "outputs": [
    {
     "data": {
      "text/plain": [
       "0.5"
      ]
     },
     "execution_count": 28,
     "metadata": {},
     "output_type": "execute_result"
    }
   ],
   "source": [
    "y_pred = []\n",
    "for i in XOR_data['data']:\n",
    "    y_pred.append(perceptron3.get_output(i))\n",
    "\n",
    "accuracy = accuracy_score(XOR_data['target'], y_pred)\n",
    "accuracy"
   ]
  },
  {
   "cell_type": "markdown",
   "id": "102ac66b",
   "metadata": {},
   "source": [
    "**Conclusion**: A perceptron can't be trained on a XOR-gate. It would require multiple layers for that and therefore it's not possible. <br>The general accuracy is around `50%`"
   ]
  },
  {
   "cell_type": "markdown",
   "id": "f160e466",
   "metadata": {},
   "source": [
    "### Flower dataset1 (Setosa en Versicolour)"
   ]
  },
  {
   "cell_type": "code",
   "execution_count": 31,
   "id": "17604271",
   "metadata": {
    "scrolled": true
   },
   "outputs": [
    {
     "name": "stdout",
     "output_type": "stream",
     "text": [
      "\n",
      "Model is 100% succesful after 6 epochs. Stopping...\n",
      "Final bias = -0.77 and weights are [0.65, -1.12, 0.29, -0.16]\n"
     ]
    },
    {
     "data": {
      "text/plain": [
       "0"
      ]
     },
     "execution_count": 31,
     "metadata": {},
     "output_type": "execute_result"
    }
   ],
   "source": [
    "perceptron4 = Perceptron()\n",
    "perceptron4.activate(X_train1, Y_train1, 2500, 0.01, verbose=False)"
   ]
  },
  {
   "cell_type": "code",
   "execution_count": 32,
   "id": "f94c0efd",
   "metadata": {
    "scrolled": true
   },
   "outputs": [
    {
     "data": {
      "text/plain": [
       "1.0"
      ]
     },
     "execution_count": 32,
     "metadata": {},
     "output_type": "execute_result"
    }
   ],
   "source": [
    "y_pred = []\n",
    "for i in X_test1:\n",
    "    y_pred.append(perceptron4.get_output(i))\n",
    "\n",
    "accuracy = accuracy_score(Y_test1, y_pred)\n",
    "accuracy"
   ]
  },
  {
   "cell_type": "code",
   "execution_count": 20,
   "id": "69b5d439",
   "metadata": {},
   "outputs": [
    {
     "name": "stdout",
     "output_type": "stream",
     "text": [
      "\n",
      "Model is unable to perfrom succesfully 100% of the time. Stopping after 2500 epochs...\n",
      "Final bias = -0.41 and weights are [0.19, -0.08, -0.18, -0.16]\n",
      "\n",
      "\n",
      "Model is unable to perfrom succesfully 100% of the time. Stopping after 2500 epochs...\n",
      "Final bias = 0.62 and weights are [0.13, -0.49, 0.13, -0.46]\n",
      "\n",
      "\n",
      "Model is unable to perfrom succesfully 100% of the time. Stopping after 2500 epochs...\n",
      "Final bias = -0.16 and weights are [-0.25, 0.45, 0.23, -1.46]\n",
      "\n",
      "\n",
      "Model is unable to perfrom succesfully 100% of the time. Stopping after 2500 epochs...\n",
      "Final bias = 0.26 and weights are [-0.18, 0.38, -0.36, -0.54]\n",
      "\n",
      "\n",
      "Model is 100% succesful after 3 epochs. Stopping...\n",
      "Final bias = -0.49 and weights are [-0.5, 0.04, 0.69, 0.85]\n",
      "\n",
      "Model is unable to perfrom succesfully 100% of the time. Stopping after 2500 epochs...\n",
      "Final bias = 0.38 and weights are [-0.26, 0.41, -0.16, -1.04]\n",
      "\n",
      "\n",
      "Model is 100% succesful after 3 epochs. Stopping...\n",
      "Final bias = 0.5 and weights are [-0.41, -0.04, 0.34, 0.79]\n",
      "\n",
      "Model is unable to perfrom succesfully 100% of the time. Stopping after 2500 epochs...\n",
      "Final bias = -0.17 and weights are [-0.56, 0.95, 0.03, -0.55]\n",
      "\n",
      "\n",
      "Model is unable to perfrom succesfully 100% of the time. Stopping after 2500 epochs...\n",
      "Final bias = -1.36 and weights are [0.03, 0.18, 0.29, -0.09]\n",
      "\n",
      "\n",
      "Model is 100% succesful after 2 epochs. Stopping...\n",
      "Final bias = -0.68 and weights are [0.19, -0.2, 0.21, -0.18]\n",
      "\n",
      "Model is unable to perfrom succesfully 100% of the time. Stopping after 2500 epochs...\n",
      "Final bias = 0.01 and weights are [0.01, 0.0, -0.03, -0.27]\n",
      "\n",
      "\n",
      "Model is unable to perfrom succesfully 100% of the time. Stopping after 2500 epochs...\n",
      "Final bias = -0.73 and weights are [0.77, -0.78, -0.35, -0.37]\n",
      "\n",
      "\n",
      "Model is 100% succesful after 9 epochs. Stopping...\n",
      "Final bias = 0.31 and weights are [0.38, -1.21, 0.43, 0.44]\n",
      "\n",
      "Model is 100% succesful after 4 epochs. Stopping...\n",
      "Final bias = -0.87 and weights are [0.08, -0.75, 0.74, 0.18]\n",
      "\n",
      "Model is unable to perfrom succesfully 100% of the time. Stopping after 2500 epochs...\n",
      "Final bias = -0.09 and weights are [0.32, -0.68, 0.39, -0.72]\n",
      "\n",
      "\n",
      "Model is unable to perfrom succesfully 100% of the time. Stopping after 2500 epochs...\n",
      "Final bias = 0.68 and weights are [-0.69, 0.53, 0.56, -0.08]\n",
      "\n",
      "\n",
      "Model is unable to perfrom succesfully 100% of the time. Stopping after 2500 epochs...\n",
      "Final bias = -0.69 and weights are [0.1, 0.46, -0.84, -0.08]\n",
      "\n",
      "\n",
      "Model is 100% succesful after 2 epochs. Stopping...\n",
      "Final bias = -0.56 and weights are [0.11, -0.17, 0.16, 0.05]\n",
      "\n",
      "Model is 100% succesful after 3 epochs. Stopping...\n",
      "Final bias = 0.36 and weights are [-0.4, -0.01, 0.61, -0.05]\n",
      "\n",
      "Model is unable to perfrom succesfully 100% of the time. Stopping after 2500 epochs...\n",
      "Final bias = 0.83 and weights are [-0.45, 0.33, 0.32, -0.74]\n",
      "\n"
     ]
    }
   ],
   "source": [
    "final_accuracy = []\n",
    "for i in range(20):\n",
    "    perceptron4 = Perceptron()\n",
    "    perceptron4.activate(X_train1, Y_train1, 2500, 0.01, verbose=False)\n",
    "    \n",
    "    y_pred = []\n",
    "    for i in X_test1:\n",
    "        y_pred.append(perceptron4.get_output(i))\n",
    "\n",
    "    accuracy = accuracy_score(Y_test1, y_pred)\n",
    "    final_accuracy.append(accuracy)"
   ]
  },
  {
   "cell_type": "code",
   "execution_count": 21,
   "id": "718e8b9c",
   "metadata": {},
   "outputs": [
    {
     "data": {
      "text/plain": [
       "0.6125"
      ]
     },
     "execution_count": 21,
     "metadata": {},
     "output_type": "execute_result"
    }
   ],
   "source": [
    "summed_final_accuracy = sum(final_accuracy) / len(final_accuracy)\n",
    "summed_final_accuracy"
   ]
  },
  {
   "cell_type": "code",
   "execution_count": 22,
   "id": "60f9d2a5",
   "metadata": {},
   "outputs": [
    {
     "data": {
      "text/plain": [
       "1.0"
      ]
     },
     "execution_count": 22,
     "metadata": {},
     "output_type": "execute_result"
    }
   ],
   "source": [
    "statistics.mode(final_accuracy)"
   ]
  },
  {
   "cell_type": "markdown",
   "id": "3981732a",
   "metadata": {},
   "source": [
    "The final accuracy here is generally all over the place.\n",
    "There are quite a few instances where it's higher than 90%, but similarly many where it's lower than 15%. And sometimes inbetween, just not as often.\n",
    "For that reason, I've simulated it 20 times and took both the average result and the mode.\n",
    "<br>With the current model, we're on average `61%` correct and the mode of the results is a `100%` accuracy. All in all, not too great of a prediction since the baseline would already be `50%`"
   ]
  },
  {
   "cell_type": "markdown",
   "id": "4b3e9012",
   "metadata": {},
   "source": [
    "### Flower dataset2 (Versicolour en Verginica)"
   ]
  },
  {
   "cell_type": "code",
   "execution_count": 23,
   "id": "5beed974",
   "metadata": {},
   "outputs": [
    {
     "name": "stdout",
     "output_type": "stream",
     "text": [
      "\n",
      "Model is unable to perfrom succesfully 100% of the time. Stopping after 2000 epochs...\n",
      "Final bias = 759.21 and weights are [760.87, 759.37, 759.69, 759.32]\n",
      "\n"
     ]
    },
    {
     "data": {
      "text/plain": [
       "1"
      ]
     },
     "execution_count": 23,
     "metadata": {},
     "output_type": "execute_result"
    }
   ],
   "source": [
    "perceptron5 = Perceptron()\n",
    "perceptron5.activate(X_train2, Y_train2, 2000, 0.01, verbose=False) "
   ]
  },
  {
   "cell_type": "code",
   "execution_count": 24,
   "id": "d707a60a",
   "metadata": {},
   "outputs": [
    {
     "data": {
      "text/plain": [
       "0.4"
      ]
     },
     "execution_count": 24,
     "metadata": {},
     "output_type": "execute_result"
    }
   ],
   "source": [
    "y_pred = []\n",
    "\n",
    "for i in X_test1:\n",
    "    y_pred.append(perceptron5.get_output(i))\n",
    "\n",
    "accuracy = accuracy_score(Y_test2, y_pred)\n",
    "accuracy    "
   ]
  },
  {
   "cell_type": "markdown",
   "id": "3990ff29",
   "metadata": {},
   "source": [
    "The final accuracy here is **consistently** 0.4 = `40%`. <br>Since a baseline model is already at `50%`, this score is not looking great. The neural network is unable to properly train itself on the second dataset."
   ]
  }
 ],
 "metadata": {
  "kernelspec": {
   "display_name": "Python 3 (ipykernel)",
   "language": "python",
   "name": "python3"
  },
  "language_info": {
   "codemirror_mode": {
    "name": "ipython",
    "version": 3
   },
   "file_extension": ".py",
   "mimetype": "text/x-python",
   "name": "python",
   "nbconvert_exporter": "python",
   "pygments_lexer": "ipython3",
   "version": "3.10.2"
  }
 },
 "nbformat": 4,
 "nbformat_minor": 5
}
